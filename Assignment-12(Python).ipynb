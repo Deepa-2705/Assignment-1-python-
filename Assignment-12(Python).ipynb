{
 "cells": [
  {
   "cell_type": "markdown",
   "id": "c166fae9-3840-40fb-832b-bc257f92394b",
   "metadata": {},
   "source": [
    "Q1. What is an Exception in pthon? Write the difference between Exceptions and syntax errors?\n",
    "\n",
    "Ans: An Exception is an event that occurs during the program execution and disrupts the normal flow of the program's execution. Errors mostly happen at compile-time like syntax error; however it can happen at runtime as well. Whereas an Exception occurs at runtime (checked exceptions can be detected at compile time)."
   ]
  },
  {
   "cell_type": "markdown",
   "id": "e0ee29cd-6777-4a49-88c3-3bc2b30ee345",
   "metadata": {},
   "source": [
    "Q2. What happens when an exception is not handled? Explain with an example?\n",
    "\n",
    "Ans:If an exception is not caught (with a catch block), the runtime system will abort the program (i.e. crash) and an exception message will print to the console. The message typically includes: name of exception type. short description."
   ]
  },
  {
   "cell_type": "markdown",
   "id": "3dd404ea-83e9-440a-a29b-d31daa262559",
   "metadata": {},
   "source": [
    "Q3. Which Python statements are used to catch and handle exceptions? Explain with an example.\n",
    "\n",
    "Ans: The try and except block in Python is used to catch and handle exceptions. Python executes code following the try statement as a “normal” part of the program. The code that follows the except statement is the program's response to any exceptions in the preceding try clause."
   ]
  },
  {
   "cell_type": "code",
   "execution_count": 2,
   "id": "b59a0771-de25-4ef4-9649-8b7924d6813f",
   "metadata": {},
   "outputs": [
    {
     "name": "stdout",
     "output_type": "stream",
     "text": [
      "Error: Denominator cannot be 0.\n"
     ]
    }
   ],
   "source": [
    "try:\n",
    "    numerator = 10\n",
    "    denominator = 0\n",
    "\n",
    "    result = numerator/denominator\n",
    "\n",
    "    print(result)\n",
    "except:\n",
    "    print(\"Error: Denominator cannot be 0.\")"
   ]
  },
  {
   "cell_type": "markdown",
   "id": "d8bbb2ab-4aec-4d9c-88bb-df2e0a08c026",
   "metadata": {},
   "source": [
    "Q4. Explain with an example:\n",
    "\n",
    "1)Try and else\n",
    "\n",
    "2)finally\n",
    "\n",
    "3)raise"
   ]
  },
  {
   "cell_type": "code",
   "execution_count": 3,
   "id": "0c190766-2225-4eb4-b06f-9a270d101889",
   "metadata": {},
   "outputs": [],
   "source": [
    "try:\n",
    "    f=open(\"text.txt\",'w')    \n",
    "    f.write(\"This is my msg\")\n",
    "except Exception as e:\n",
    "    print(\"The file may be not present in the directory\",e)\n",
    "else:\n",
    "    #else block will execute once try will execute itself without an exception otherwise else will never execute\n",
    "    f.close() "
   ]
  },
  {
   "cell_type": "code",
   "execution_count": 4,
   "id": "f7a81a9e-0676-48b2-a280-b015eef7f702",
   "metadata": {},
   "outputs": [
    {
     "name": "stdout",
     "output_type": "stream",
     "text": [
      "The file may be not present in the directory [Errno 2] No such file or directory: 'text1.txt'\n",
      "The finally block is always executing\n"
     ]
    }
   ],
   "source": [
    "try:\n",
    "    f=open(\"text1.txt\",'r')   \n",
    "    print(f.read)\n",
    "except Exception as e:\n",
    "    print(\"The file may be not present in the directory\",e)\n",
    "else:\n",
    "    f.close()    \n",
    "finally:\n",
    "    print(\"The finally block is always executing\")"
   ]
  },
  {
   "cell_type": "code",
   "execution_count": 8,
   "id": "913108a8-8349-456e-b1f3-5a4b7369a850",
   "metadata": {},
   "outputs": [
    {
     "name": "stdin",
     "output_type": "stream",
     "text": [
      "Enter a number between positive integer:  -3\n"
     ]
    },
    {
     "name": "stdout",
     "output_type": "stream",
     "text": [
      "You provided -3. Please provide positive integer values only\n"
     ]
    }
   ],
   "source": [
    "class NegativeError(Exception):\n",
    "   def __init__(self, data):\n",
    "       self.data = data\n",
    "\n",
    "try:\n",
    "   x = int(input(\"Enter a number between positive integer: \"))\n",
    "   if x < 0:\n",
    "       raise NegativeError(x)\n",
    "except NegativeError as e:\n",
    "   print(\"You provided {}. Please provide positive integer values only\".format(e))"
   ]
  },
  {
   "cell_type": "markdown",
   "id": "038ad571-57c5-4ac6-8021-fb1b4feb7043",
   "metadata": {},
   "source": [
    "Q5. What are Custom Exceptions in python? Why do we need Custom Exceptions? Explain with an example.\n",
    "\n",
    "Ans:Sometimes based on project requirement, a programmer needs to create his own exceptions and raise explicitly for corresponding scenarios. Such types of exceptions are called customized Exceptions or Programmatic Exceptions. We can raise a custom exception by using the keyword 'raise'."
   ]
  },
  {
   "cell_type": "code",
   "execution_count": 9,
   "id": "da96f314-2572-4d39-8038-b2753023a3b1",
   "metadata": {},
   "outputs": [],
   "source": [
    "class valid_age(Exception):   #Inherites exception class\n",
    "    def __init__(self,msg):   #Constructor\n",
    "        self.msg=msg"
   ]
  },
  {
   "cell_type": "code",
   "execution_count": 10,
   "id": "064a1407-b49e-499d-95ce-46b769dd8cdf",
   "metadata": {},
   "outputs": [],
   "source": [
    "def valid_age2(age):\n",
    "    if age<0:\n",
    "        raise valid_age(\"Age should not be negative\")          #Raise calls the custom class\n",
    "    elif age>=200:\n",
    "        raise valid_age(\"The age is too high\")\n",
    "    else: \n",
    "        print(\"Age is valid\")"
   ]
  },
  {
   "cell_type": "code",
   "execution_count": 11,
   "id": "58a2f0f4-d93c-46fd-b9c0-079aa00d639e",
   "metadata": {},
   "outputs": [
    {
     "name": "stdin",
     "output_type": "stream",
     "text": [
      "Enter your age:  56\n"
     ]
    },
    {
     "name": "stdout",
     "output_type": "stream",
     "text": [
      "Age is valid\n"
     ]
    }
   ],
   "source": [
    "try:\n",
    "    age=int(input(\"Enter your age: \"))\n",
    "    valid_age2(age)\n",
    "    \n",
    "except valid_age as e:\n",
    "    print(e)"
   ]
  },
  {
   "cell_type": "markdown",
   "id": "bb7cafe9-b082-41c0-a7bc-405e9300b229",
   "metadata": {},
   "source": [
    "Q6. Create custom exception class. Use this class to handle an exception."
   ]
  },
  {
   "cell_type": "code",
   "execution_count": 14,
   "id": "08206f76-da3b-497d-abc4-02b55627aecc",
   "metadata": {},
   "outputs": [],
   "source": [
    "class Excep:\n",
    "    def test(file):\n",
    "        try:\n",
    "            with open(file,'r') as f:\n",
    "                f.read()\n",
    "        \n",
    "        except Exception as e:   #we have used super class at very first place\n",
    "            print(\"Super class Exception handling\",e)             #The exception is handled by this class only\n",
    "    \n",
    "        except FileNotFoundError as e:    #not by this\n",
    "            print(\"child class Exception handling\",e)"
   ]
  },
  {
   "cell_type": "code",
   "execution_count": 17,
   "id": "ffe2c903-5db3-482d-a057-6aa25ab98c21",
   "metadata": {},
   "outputs": [],
   "source": [
    "obj=Excep"
   ]
  },
  {
   "cell_type": "code",
   "execution_count": 20,
   "id": "1157fb06-91d3-4b22-915d-9386243a1abc",
   "metadata": {},
   "outputs": [],
   "source": [
    "f=open(\"test.txt\",'w')"
   ]
  },
  {
   "cell_type": "code",
   "execution_count": 21,
   "id": "eedab6ac-92c4-4df8-8de2-4d45aace12a2",
   "metadata": {},
   "outputs": [
    {
     "data": {
      "text/plain": [
       "719"
      ]
     },
     "execution_count": 21,
     "metadata": {},
     "output_type": "execute_result"
    }
   ],
   "source": [
    "f.write(\"Data Science Masters course is highly curated and uniquely designed according to the latest industry standards. This program instills students the skills essential to knowledge discovery efforts to identify standard, novel, and truly differentiated solutions and decision-making, including skills in managing, querying, analyzing, visualizing, and extracting meaning from extremely large data sets. This trending program provides students with the statistical, mathematical and computational skills needed to meet the large-scale data science challenges of today's professional world. You will learn all the stack required to work in data science industry including cloud infrastructure and real-time industry projects.\")"
   ]
  },
  {
   "cell_type": "code",
   "execution_count": 22,
   "id": "39a6f9b3-c02a-422c-8221-9ae0a2dd4c04",
   "metadata": {},
   "outputs": [],
   "source": [
    "f.close()"
   ]
  },
  {
   "cell_type": "code",
   "execution_count": 25,
   "id": "bb75f0f4-7d01-4323-b3b8-ba339b4ad9de",
   "metadata": {},
   "outputs": [],
   "source": [
    "obj.test(\"test.txt\")"
   ]
  },
  {
   "cell_type": "code",
   "execution_count": null,
   "id": "61662e9a-6495-4f67-9edd-0739cdebfa16",
   "metadata": {},
   "outputs": [],
   "source": []
  },
  {
   "cell_type": "code",
   "execution_count": null,
   "id": "e8d294cc-84ff-4846-bf11-6f288cdba470",
   "metadata": {},
   "outputs": [],
   "source": []
  },
  {
   "cell_type": "code",
   "execution_count": null,
   "id": "97a20e2a-3988-4457-85d0-dce21892beed",
   "metadata": {},
   "outputs": [],
   "source": []
  },
  {
   "cell_type": "code",
   "execution_count": null,
   "id": "fe225ef3-b542-488f-90ec-e217b349a71a",
   "metadata": {},
   "outputs": [],
   "source": []
  },
  {
   "cell_type": "code",
   "execution_count": null,
   "id": "803afe52-e1af-4a2b-be98-9cb32fb05ad9",
   "metadata": {},
   "outputs": [],
   "source": []
  },
  {
   "cell_type": "code",
   "execution_count": null,
   "id": "3dde1122-e67d-4172-a845-1b7ce1603e93",
   "metadata": {},
   "outputs": [],
   "source": []
  },
  {
   "cell_type": "code",
   "execution_count": null,
   "id": "375340ff-0378-4663-aaa4-e1fde7c8f4a6",
   "metadata": {},
   "outputs": [],
   "source": []
  },
  {
   "cell_type": "code",
   "execution_count": null,
   "id": "b42fefb6-fd45-43fe-b12a-13a06f5f5c92",
   "metadata": {},
   "outputs": [],
   "source": []
  },
  {
   "cell_type": "code",
   "execution_count": null,
   "id": "cb56e856-253f-4d61-8b23-8d981fa2c848",
   "metadata": {},
   "outputs": [],
   "source": []
  },
  {
   "cell_type": "code",
   "execution_count": null,
   "id": "3d57b4df-d9d2-4cd1-aad6-c1b33e608b35",
   "metadata": {},
   "outputs": [],
   "source": []
  },
  {
   "cell_type": "code",
   "execution_count": null,
   "id": "0de3c3bc-e013-46ca-8e5a-3025496335a2",
   "metadata": {},
   "outputs": [],
   "source": []
  },
  {
   "cell_type": "code",
   "execution_count": null,
   "id": "3a330bd0-cd58-4e20-8c00-f479fb739adc",
   "metadata": {},
   "outputs": [],
   "source": []
  },
  {
   "cell_type": "code",
   "execution_count": null,
   "id": "8e75e05e-5f53-4b38-9814-51bcfe4ad36b",
   "metadata": {},
   "outputs": [],
   "source": []
  },
  {
   "cell_type": "code",
   "execution_count": null,
   "id": "08eb10a1-2b94-40b7-9164-a16bf19fd21e",
   "metadata": {},
   "outputs": [],
   "source": []
  },
  {
   "cell_type": "code",
   "execution_count": null,
   "id": "6f763552-a742-4fec-bd77-267d415074ed",
   "metadata": {},
   "outputs": [],
   "source": []
  },
  {
   "cell_type": "code",
   "execution_count": null,
   "id": "a849c789-5eee-4aee-85df-1b808c07cf30",
   "metadata": {},
   "outputs": [],
   "source": []
  }
 ],
 "metadata": {
  "kernelspec": {
   "display_name": "Python 3 (ipykernel)",
   "language": "python",
   "name": "python3"
  },
  "language_info": {
   "codemirror_mode": {
    "name": "ipython",
    "version": 3
   },
   "file_extension": ".py",
   "mimetype": "text/x-python",
   "name": "python",
   "nbconvert_exporter": "python",
   "pygments_lexer": "ipython3",
   "version": "3.10.8"
  }
 },
 "nbformat": 4,
 "nbformat_minor": 5
}
